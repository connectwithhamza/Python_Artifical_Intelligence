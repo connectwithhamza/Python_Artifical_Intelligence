{
 "cells": [
  {
   "cell_type": "code",
   "execution_count": null,
   "metadata": {},
   "outputs": [],
   "source": [
    "weight = float(input(\"How many pounds does your suitcae have?\"))\n",
    "if weight > 40:\n",
    "    print (\"Well that is overweight $25 charge\")\n",
    "    \n",
    " print   "
   ]
  },
  {
   "cell_type": "code",
   "execution_count": null,
   "metadata": {},
   "outputs": [],
   "source": [
    "temperature = float(input ('What is the temperature?'))\n",
    "if temperature >= 25:\n",
    "    print ('Wear shorts!') \n",
    "else:\n",
    "    print('Wear pants !')\n",
    "    \n",
    "    \n",
    "    "
   ]
  },
  {
   "cell_type": "code",
   "execution_count": null,
   "metadata": {},
   "outputs": [],
   "source": [
    "x = float(input(\"Enter your marks please out of 100 : \"))\n",
    "if x>= 100 :\n",
    "    print(\"Error\")\n",
    "elif x>= 90:\n",
    "    print(\"Your grade is A*\")\n",
    "elif x>= 80:\n",
    "    print(\"Your grade is A\")\n",
    "else :\n",
    "    print(\"Contact your coordinator\")\n",
    "    "
   ]
  },
  {
   "cell_type": "code",
   "execution_count": 4,
   "metadata": {},
   "outputs": [
    {
     "name": "stdout",
     "output_type": "stream",
     "text": [
      "Enter your english marks: 80\n",
      "Enter your urdu marks: 85\n",
      "Enter your science marks : 89\n",
      "Enter your maths marks : 98\n",
      "Enter your programming marks : 99\n",
      " ** Your total marks is ** 451.0 ** out of 500 **\n",
      " Congratulations! You got A* \n",
      " ** Your total marks are = 451.0 ** \n",
      " your percentage is ** 90.2%\n"
     ]
    }
   ],
   "source": [
    "english = float(input(\"Enter your english marks: \"))\n",
    "urdu = float(input(\"Enter your urdu marks: \"))\n",
    "science = float(input(\"Enter your science marks : \"))\n",
    "math = float(input(\"Enter your maths marks : \"))\n",
    "programming = float(input(\"Enter your programming marks : \"))\n",
    "    \n",
    "total = english + urdu + science + math + programming\n",
    "print(\" ** Your total marks is ** \" + str(total) + \" ** out of 500 **\")\n",
    "\n",
    "percentage = total / 500 * 100\n",
    "if percentage > 100:\n",
    "    print(\"Enter your marks correctly\")\n",
    "elif percentage >= 90:\n",
    "    print(\" Congratulations! You got A* \")\n",
    "elif percentage >= 80:\n",
    "    print(\" Congratulations! You got A \")\n",
    "elif percentage >= 70:\n",
    "    print (\" Congratulations! You got B \")\n",
    "elif percentage >= 60:\n",
    "    print (\" Oops! You got c \")\n",
    "else:\n",
    "    print (\" You are Fail\")\n",
    "    \n",
    "print (\" ** Your total marks are = \" + str(total) + \" ** \\n your percentage is ** \" + str(percentage) + \"%\" )\n"
   ]
  },
  {
   "cell_type": "code",
   "execution_count": null,
   "metadata": {},
   "outputs": [],
   "source": []
  },
  {
   "cell_type": "code",
   "execution_count": null,
   "metadata": {},
   "outputs": [],
   "source": []
  }
 ],
 "metadata": {
  "kernelspec": {
   "display_name": "Python 3",
   "language": "python",
   "name": "python3"
  },
  "language_info": {
   "codemirror_mode": {
    "name": "ipython",
    "version": 3
   },
   "file_extension": ".py",
   "mimetype": "text/x-python",
   "name": "python",
   "nbconvert_exporter": "python",
   "pygments_lexer": "ipython3",
   "version": "3.7.1"
  }
 },
 "nbformat": 4,
 "nbformat_minor": 2
}
