{
 "cells": [
  {
   "cell_type": "code",
   "execution_count": 1,
   "metadata": {},
   "outputs": [],
   "source": [
    "#Looping / lopps for loops\n"
   ]
  },
  {
   "cell_type": "code",
   "execution_count": 3,
   "metadata": {},
   "outputs": [
    {
     "name": "stdout",
     "output_type": "stream",
     "text": [
      "0 Pakistan\n",
      "1 Pakistan\n",
      "2 Pakistan\n",
      "3 Pakistan\n",
      "4 Pakistan\n",
      "5 Pakistan\n",
      "6 Pakistan\n",
      "7 Pakistan\n",
      "8 Pakistan\n",
      "9 Pakistan\n"
     ]
    }
   ],
   "source": [
    "for num in range(10):\n",
    "    print(num, \"Pakistan\")\n",
    "    "
   ]
  },
  {
   "cell_type": "code",
   "execution_count": 5,
   "metadata": {},
   "outputs": [
    {
     "name": "stdout",
     "output_type": "stream",
     "text": [
      "0 Pakistan\n",
      "2 Pakistan\n",
      "4 Pakistan\n",
      "6 Pakistan\n",
      "8 Pakistan\n"
     ]
    }
   ],
   "source": [
    "for num in range(0,10,2):\n",
    "    print(num, \"Pakistan\")\n",
    "   #(o,10,2 in this is step where from 0 it will do a step of 2 and further more\n",
    "#where as the middle on 10 is for where we have to end the counting)\n"
   ]
  },
  {
   "cell_type": "code",
   "execution_count": 8,
   "metadata": {},
   "outputs": [
    {
     "name": "stdout",
     "output_type": "stream",
     "text": [
      "1 Pakistan\n",
      "3 Pakistan\n",
      "5 Pakistan\n",
      "7 Pakistan\n",
      "9 Pakistan\n",
      "11 Pakistan\n",
      "13 Pakistan\n"
     ]
    }
   ],
   "source": [
    "for num in range(1,15,2):\n",
    "    print(num, \"Pakistan\")\n",
    "   "
   ]
  },
  {
   "cell_type": "code",
   "execution_count": 29,
   "metadata": {},
   "outputs": [
    {
     "name": "stdout",
     "output_type": "stream",
     "text": [
      "1 <class 'int'>\n",
      "2 <class 'int'>\n",
      "3 <class 'int'>\n",
      "4 <class 'int'>\n",
      "5 <class 'int'>\n",
      "6 <class 'int'>\n",
      "Hello <class 'str'>\n",
      "7 <class 'int'>\n",
      "8 <class 'int'>\n",
      "9 <class 'int'>\n",
      "True <class 'bool'>\n"
     ]
    }
   ],
   "source": [
    "list1 = [1,2,3,4,5,6, \"Hello\",7,8,9,True]\n",
    "\n",
    "\n",
    "for num in list1:\n",
    "    print(num,type(num))"
   ]
  },
  {
   "cell_type": "code",
   "execution_count": 33,
   "metadata": {
    "scrolled": true
   },
   "outputs": [
    {
     "name": "stdout",
     "output_type": "stream",
     "text": [
      "2\n",
      "4\n",
      "6\n",
      "8\n",
      "10\n"
     ]
    }
   ],
   "source": [
    "list2 = [1,2,3,4,5,6,7,8,9,10]\n",
    "\n",
    "for num in list2:\n",
    "    if num % 2 == 0: \n",
    "       print(num)"
   ]
  },
  {
   "cell_type": "code",
   "execution_count": 35,
   "metadata": {},
   "outputs": [
    {
     "data": {
      "text/plain": [
       "10"
      ]
     },
     "execution_count": 35,
     "metadata": {},
     "output_type": "execute_result"
    }
   ],
   "source": [
    "list2 = [1,2,3,4,5,6,7,8,9,10]\n",
    "\n",
    "list2 [9]"
   ]
  },
  {
   "cell_type": "code",
   "execution_count": 38,
   "metadata": {},
   "outputs": [
    {
     "name": "stdout",
     "output_type": "stream",
     "text": [
      "apple\n",
      "oranges\n",
      "cakes\n",
      "drinks\n"
     ]
    }
   ],
   "source": [
    "for members in ['apple','oranges', 'cakes' ,'drinks']:\n",
    "      print(members)"
   ]
  },
  {
   "cell_type": "code",
   "execution_count": 56,
   "metadata": {},
   "outputs": [
    {
     "name": "stdout",
     "output_type": "stream",
     "text": [
      "1\n",
      "the number is even 2\n",
      "3\n",
      "the number is even 4\n",
      "5\n",
      "the number is even 6\n",
      "7\n",
      "the number is even 8\n",
      "9\n",
      "the number is even 10\n"
     ]
    }
   ],
   "source": [
    "list2 = [1,2,3,4,5,6,7,8,9,10]\n",
    "for num in list2:\n",
    "    if num % 2 !=0 :\n",
    "        print(int(num))\n",
    "    else :\n",
    "        print(\"the number is even \" + str(num))"
   ]
  },
  {
   "cell_type": "code",
   "execution_count": 100,
   "metadata": {},
   "outputs": [
    {
     "name": "stdout",
     "output_type": "stream",
     "text": [
      "these are odd numbers1,3,5,7,9,and 2,4,6,8,10,these are even numbers :\n"
     ]
    }
   ],
   "source": [
    "even = []\n",
    "odd = []\n",
    "message = \"\"\n",
    "list1 = [1,2,3,4,5,6,7,8,9,10]\n",
    "\n",
    "for num in list1:\n",
    "    if num% 2 !=0:\n",
    "        \n",
    "        odd.append(num)\n",
    "    else :\n",
    "        \n",
    "        even.append(num)\n",
    "        \n",
    "message += \"these are odd numbers\" \n",
    "\n",
    "for od in odd:\n",
    "    message += str(od) + \",\"\n",
    "    \n",
    "message += \"and \" \n",
    "\n",
    "for ev in even:\n",
    "    message += str(ev) + \",\"\n",
    "    \n",
    "message += \"these are even numbers \"\n",
    "\n",
    "print(message)\n"
   ]
  },
  {
   "cell_type": "code",
   "execution_count": 115,
   "metadata": {},
   "outputs": [
    {
     "name": "stdout",
     "output_type": "stream",
     "text": [
      "Evens : \n",
      "2||4||6||8||10||\n",
      "odds : \n",
      "1||3||5||7||9||"
     ]
    }
   ],
   "source": [
    "even=[]\n",
    "odd=[]\n",
    "\n",
    "list1 = [1,2,3,4,5,6,7,8,9,10]\n",
    "\n",
    "for num in list1:\n",
    "    if num% 2 == 0 :\n",
    "        even.append(num)\n",
    "    else :\n",
    "        odd.append(num)\n",
    "print(\"Evens : \")\n",
    "\n",
    "for ev in even:\n",
    "        print(ev, end= '||' )\n",
    "print(\"\\nodds : \")\n",
    "\n",
    "for od in odd:\n",
    "        print(od,end= '||')\n",
    "        \n",
    "        "
   ]
  },
  {
   "cell_type": "code",
   "execution_count": 155,
   "metadata": {},
   "outputs": [
    {
     "name": "stdout",
     "output_type": "stream",
     "text": [
      "c\n",
      "c\n"
     ]
    }
   ],
   "source": [
    "closefriends=[]\n",
    "friend = ['a','b','c','d','e','f']\n",
    "family = ['g','h','k','l','a',' b','c']\n",
    "str(friend);\n",
    "str(family);\n",
    "str(num);\n",
    "\n",
    "for num in family:\n",
    "    if family == friend:\n",
    "        closefriends.append(num)\n",
    "for num1 in family:\n",
    "    if family == friend:\n",
    "        closefriends.append(num1)\n",
    "  \n",
    "   \n",
    "print(num)\n",
    "print(num1)\n"
   ]
  },
  {
   "cell_type": "code",
   "execution_count": null,
   "metadata": {},
   "outputs": [],
   "source": []
  }
 ],
 "metadata": {
  "kernelspec": {
   "display_name": "Python 3",
   "language": "python",
   "name": "python3"
  },
  "language_info": {
   "codemirror_mode": {
    "name": "ipython",
    "version": 3
   },
   "file_extension": ".py",
   "mimetype": "text/x-python",
   "name": "python",
   "nbconvert_exporter": "python",
   "pygments_lexer": "ipython3",
   "version": "3.7.1"
  }
 },
 "nbformat": 4,
 "nbformat_minor": 2
}
